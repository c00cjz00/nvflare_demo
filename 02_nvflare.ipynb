{
 "cells": [
  {
   "cell_type": "markdown",
   "id": "4c5a294d-57e9-4e6f-b05e-5c10fff874c9",
   "metadata": {},
   "source": [
    "## 02_nvflare \n",
    "#### <span style=\"color:red\">Change to Image kernel</span>."
   ]
  },
  {
   "cell_type": "code",
   "execution_count": 94,
   "id": "5d3de3ec-83db-4991-9e4d-564318fe8f75",
   "metadata": {
    "tags": []
   },
   "outputs": [],
   "source": [
    "# 初始環境設定\n",
    "import os\n",
    "from pathlib import Path\n",
    "HOME = str(Path.home())\n",
    "Add_Binarry_Path=HOME+'/.local/bin:/usr/ubuntu_bin'\n",
    "os.environ['PATH']=os.environ['PATH']+':'+Add_Binarry_Path"
   ]
  },
  {
   "cell_type": "code",
   "execution_count": 95,
   "id": "3e6d9f21-ef88-4cba-808c-62734f3c87a2",
   "metadata": {
    "tags": []
   },
   "outputs": [
    {
     "name": "stdout",
     "output_type": "stream",
     "text": [
      "fatal: destination path 'NVFlare' already exists and is not an empty directory.\n"
     ]
    }
   ],
   "source": [
    "!git clone https://github.com/NVIDIA/NVFlare.git"
   ]
  },
  {
   "cell_type": "code",
   "execution_count": 96,
   "id": "3feb02d6-4999-4654-a489-05f8e3e38a0c",
   "metadata": {
    "tags": []
   },
   "outputs": [
    {
     "name": "stdout",
     "output_type": "stream",
     "text": [
      "Project yaml file: /home/g00cjz00/demo2024/flag/project.yml.\n",
      "Generated results can be found under /home/g00cjz00/demo2024/flag/workspace/secure_project/prod_00.  Builder's wip folder removed.\n"
     ]
    }
   ],
   "source": [
    "%%bash\n",
    "# Provision\n",
    "server_hostname=$(hostname -s)\n",
    "client_port=28005\n",
    "admin_port=28003\n",
    "\n",
    "# script\n",
    "rm -rf secure_project workspace\n",
    "cp NVFlare/examples/advanced/cifar10/cifar10-real-world/workspaces/secure_project.yml project.yml\n",
    "sed -i \"s/localhost/${server_hostname}/g\" project.yml\n",
    "sed -i \"s/8102/${client_port}/g\" project.yml\n",
    "sed -i \"s/8103/${admin_port}/g\" project.yml\n",
    "nvflare provision -p project.yml -w workspace\n",
    "mv workspace/secure_project .\n",
    "rm -rf workspace \n",
    "rm project.yml\n",
    "mkdir -p logs"
   ]
  },
  {
   "cell_type": "code",
   "execution_count": 113,
   "id": "2cb42287-2eb6-44ac-a2df-9e3bf3cf755d",
   "metadata": {
    "tags": []
   },
   "outputs": [
    {
     "name": "stdout",
     "output_type": "stream",
     "text": [
      "kill: (186192): No such process\n",
      "kill: "
     ]
    }
   ],
   "source": [
    "# Shutdown all job\n",
    "!ps -ef |grep sub_start.sh  | awk '{print $2}' | xargs kill -9 \n",
    "!ps -ef |grep nvflare.private.fed.app  | awk '{print $2}' | xargs kill -9 "
   ]
  },
  {
   "cell_type": "code",
   "execution_count": 104,
   "id": "bb18098c-9e1a-4de0-b334-4e16829f4a15",
   "metadata": {
    "tags": []
   },
   "outputs": [],
   "source": [
    "%%bash \n",
    "# server\n",
    "server_hostname=$(hostname -s)\n",
    "client_port=28005\n",
    "admin_port=28003\n",
    "DIR=\"$( cd \"$( dirname \"${BASH_SOURCE[0]}\" )\" >/dev/null 2>&1 && pwd )\"\n",
    "rm -f ${DIR}/secure_project/prod_00/${server_hostname}/daemon_pid.fl\n",
    "nohup ${DIR}/secure_project/prod_00/${server_hostname}/startup/sub_start.sh > ./logs/${server_hostname}.log 2>&1 &"
   ]
  },
  {
   "cell_type": "code",
   "execution_count": 105,
   "id": "1634a23e-88a8-49da-a6dc-96b62034ab56",
   "metadata": {
    "tags": []
   },
   "outputs": [],
   "source": [
    "%%bash \n",
    "# site-1\n",
    "client_hostname=site-1\n",
    "client_port=28005\n",
    "admin_port=28003\n",
    "DIR=\"$( cd \"$( dirname \"${BASH_SOURCE[0]}\" )\" >/dev/null 2>&1 && pwd )\"\n",
    "rm -f ${DIR}/secure_project/prod_00/${client_hostname}/daemon_pid.fl\n",
    "nohup ${DIR}/secure_project/prod_00/${client_hostname}/startup/sub_start.sh > ./logs/${client_hostname}.log 2>&1 &"
   ]
  },
  {
   "cell_type": "code",
   "execution_count": 106,
   "id": "efc0933e-2044-4fa4-906d-74e9ad30accb",
   "metadata": {
    "tags": []
   },
   "outputs": [],
   "source": [
    "%%bash \n",
    "# site-2\n",
    "client_hostname=site-2\n",
    "client_port=28005\n",
    "admin_port=28003\n",
    "DIR=\"$( cd \"$( dirname \"${BASH_SOURCE[0]}\" )\" >/dev/null 2>&1 && pwd )\"\n",
    "rm -f ${DIR}/secure_project/prod_00/${client_hostname}/daemon_pid.fl\n",
    "nohup ${DIR}/secure_project/prod_00/${client_hostname}/startup/sub_start.sh > ./logs/${client_hostname}.log 2>&1 &"
   ]
  },
  {
   "cell_type": "code",
   "execution_count": 109,
   "id": "b1619725-fd99-421d-9a6d-e8630b319343",
   "metadata": {
    "tags": []
   },
   "outputs": [],
   "source": [
    "## admin\n",
    "!rm -rf secure_project/prod_00/admin@nvidia.com/transfer/hello-pt\n",
    "!cp -rf NVFlare/examples/hello-world/hello-pt/jobs/hello-pt secure_project/prod_00/admin@nvidia.com/transfer/hello-pt"
   ]
  },
  {
   "cell_type": "code",
   "execution_count": 111,
   "id": "70deb45c-9e86-4421-a0c4-25d3c2ba9d1e",
   "metadata": {
    "tags": []
   },
   "outputs": [
    {
     "name": "stdout",
     "output_type": "stream",
     "text": [
      "{'time': '2024-02-16 00:10:49.374814', 'data': [{'type': 'table', 'rows': [['CLIENT', 'APP_NAME', 'JOB_ID', 'STATUS'], ['site-1', 'app', '7129d923-79a6-43cc-ac52-eb92e75063cc', 'started'], ['site-2', 'app', '7129d923-79a6-43cc-ac52-eb92e75063cc', 'started']]}], 'meta': {}, 'status': <APIStatus.SUCCESS: 'SUCCESS'>}\n"
     ]
    }
   ],
   "source": [
    "# check client status \n",
    "import sys\n",
    "cmd=\"check_status client\"\n",
    "from nvflare.fuel.flare_api.flare_api import new_secure_session\n",
    "admin_dir=\"secure_project/prod_00/admin@nvidia.com\"\n",
    "sess = new_secure_session(\"admin@nvidia.com\",admin_dir)\n",
    "result=sess.api.do_command(cmd)\n",
    "print(result)"
   ]
  },
  {
   "cell_type": "code",
   "execution_count": 110,
   "id": "6e835624-f84c-4da7-8fc0-98aa167d62f0",
   "metadata": {
    "tags": []
   },
   "outputs": [
    {
     "name": "stdout",
     "output_type": "stream",
     "text": [
      "{'time': '2024-02-16 00:10:30.190764', 'data': [{'type': 'string', 'data': 'Submitted job: 7129d923-79a6-43cc-ac52-eb92e75063cc'}, {'type': 'success', 'data': ''}], 'meta': {'status': 'ok', 'info': '', 'job_id': '7129d923-79a6-43cc-ac52-eb92e75063cc'}, 'status': <APIStatus.SUCCESS: 'SUCCESS'>}\n"
     ]
    }
   ],
   "source": [
    "# submit job\n",
    "import sys\n",
    "cmd=\"submit_job hello-pt\"\n",
    "from nvflare.fuel.flare_api.flare_api import new_secure_session\n",
    "admin_dir=\"secure_project/prod_00/admin@nvidia.com\"\n",
    "sess = new_secure_session(\"admin@nvidia.com\",admin_dir)\n",
    "result=sess.api.do_command(cmd)\n",
    "print(result)"
   ]
  },
  {
   "cell_type": "code",
   "execution_count": 112,
   "id": "1c24d0bd-5cf0-49ef-ac40-29d9e47875ac",
   "metadata": {
    "tags": []
   },
   "outputs": [
    {
     "name": "stdout",
     "output_type": "stream",
     "text": [
      "{'time': '2024-02-16 00:10:53.167537', 'data': [{'type': 'table', 'rows': [['JOB ID', 'NAME', 'STATUS', 'SUBMIT TIME', 'RUN DURATION'], ['d39e50f8-a0a5-4024-ab76-f55c59cecd55', 'hello-pt', 'FINISHED:COMPLETED', '2024-02-15T23:50:43.627923+08:00', '0:01:58.516343'], ['79251c20-1168-4ab6-aed4-8097a8cea1cb', 'hello-pt', 'FINISHED:COMPLETED', '2024-02-15T23:58:31.029155+08:00', '0:01:40.254268'], ['7129d923-79a6-43cc-ac52-eb92e75063cc', 'hello-pt', 'RUNNING', '2024-02-16T00:10:30.195891+08:00', '0:00:22.826286']]}, {'type': 'success', 'data': ''}], 'meta': {'jobs': [{'job_id': 'd39e50f8-a0a5-4024-ab76-f55c59cecd55', 'job_name': 'hello-pt', 'status': 'FINISHED:COMPLETED', 'submit_time': '2024-02-15T23:50:43.627923+08:00', 'duration': '0:01:58.516343'}, {'job_id': '79251c20-1168-4ab6-aed4-8097a8cea1cb', 'job_name': 'hello-pt', 'status': 'FINISHED:COMPLETED', 'submit_time': '2024-02-15T23:58:31.029155+08:00', 'duration': '0:01:40.254268'}, {'job_id': '7129d923-79a6-43cc-ac52-eb92e75063cc', 'job_name': 'hello-pt', 'status': 'RUNNING', 'submit_time': '2024-02-16T00:10:30.195891+08:00', 'duration': '0:00:22.826286'}], 'status': 'ok', 'info': ''}, 'status': <APIStatus.SUCCESS: 'SUCCESS'>}\n"
     ]
    }
   ],
   "source": [
    "# list_jobs\n",
    "import sys\n",
    "cmd=\"list_jobs\"\n",
    "from nvflare.fuel.flare_api.flare_api import new_secure_session\n",
    "admin_dir=\"secure_project/prod_00/admin@nvidia.com\"\n",
    "sess = new_secure_session(\"admin@nvidia.com\",admin_dir)\n",
    "result=sess.api.do_command(cmd)\n",
    "print(result)"
   ]
  },
  {
   "cell_type": "code",
   "execution_count": null,
   "id": "8169e1d8-cbd0-495c-9d38-03dfdbe50424",
   "metadata": {},
   "outputs": [],
   "source": []
  }
 ],
 "metadata": {
  "kernelspec": {
   "display_name": "Image_S-work-flag_pytorch_2.1.2-cuda11.8-cudnn8-runtime-nvflare",
   "language": "python",
   "name": "s-work-flag_pytorch_2.1.2-cuda11.8-cudnn8-runtime-nvflare"
  },
  "language_info": {
   "codemirror_mode": {
    "name": "ipython",
    "version": 3
   },
   "file_extension": ".py",
   "mimetype": "text/x-python",
   "name": "python",
   "nbconvert_exporter": "python",
   "pygments_lexer": "ipython3",
   "version": "3.10.13"
  }
 },
 "nbformat": 4,
 "nbformat_minor": 5
}
