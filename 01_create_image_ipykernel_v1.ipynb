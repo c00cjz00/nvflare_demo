{
 "cells": [
  {
   "cell_type": "markdown",
   "id": "1f8f93ae-3208-4361-a023-d24a5109f951",
   "metadata": {},
   "source": [
    "## 01_create_image_ipykernel \n",
    "#### <span style=\"color:red\">Change to Default kernel:  Pyhon 3 (ipykernel)</span>."
   ]
  },
  {
   "cell_type": "code",
   "execution_count": 1,
   "id": "36e2b37a-e84b-4db0-9520-a862829ecc36",
   "metadata": {
    "tags": []
   },
   "outputs": [
    {
     "name": "stderr",
     "output_type": "stream",
     "text": [
      "\u001b[33mWARNING: The directory '/tmp/user-pip' or its parent directory is not owned or is not writable by the current user. The cache has been disabled. Check the permissions and owner of that directory. If executing pip with sudo, you should use sudo's -H flag.\u001b[0m\u001b[33m\n",
      "\u001b[0m\u001b[33m  WARNING: The scripts jupyter, jupyter-migrate and jupyter-troubleshoot are installed in '/home/g00cjz00/.local/bin' which is not on PATH.\n",
      "  Consider adding this directory to PATH or, if you prefer to suppress this warning, use --no-warn-script-location.\u001b[0m\u001b[33m\n",
      "\u001b[0m\u001b[33m  WARNING: The scripts jupyter-kernel, jupyter-kernelspec and jupyter-run are installed in '/home/g00cjz00/.local/bin' which is not on PATH.\n",
      "  Consider adding this directory to PATH or, if you prefer to suppress this warning, use --no-warn-script-location.\u001b[0m\u001b[33m\n"
     ]
    },
    {
     "name": "stdout",
     "output_type": "stream",
     "text": [
      "13M\t/work/g00cjz00/libraryFolder/S-work-pytorch_pytorch_2.1.2-cuda11.8-cudnn8-runtime-nvflare/local/lib\n",
      "/home/g00cjz00/.local/share/jupyter/kernels/S-work-pytorch_pytorch_2.1.2-cuda11.8-cudnn8-runtime-nvflare/kernel.json\n",
      "{\n",
      " \"language\": \"python\",\n",
      " \"argv\": [\"/work/opt/ohpc/Taiwania3/libs/singularity/3.10.2/bin/singularity\",\n",
      "   \"exec\",\n",
      "   \"--nv\",\n",
      "   \"--cleanenv\",\n",
      "   \"-B\",\n",
      "   \"/work\",\n",
      "   \"-B\",\n",
      "   \"/work/g00cjz00/libraryFolder/S-work-pytorch_pytorch_2.1.2-cuda11.8-cudnn8-runtime-nvflare/local/lib:/home/g00cjz00/.local/lib\",\n",
      "   \"-B\",\n",
      "   \"/work/g00cjz00/libraryFolder/S-work-pytorch_pytorch_2.1.2-cuda11.8-cudnn8-runtime-nvflare/local/bin:/home/g00cjz00/.local/bin\",\n",
      "   \"-B\",\n",
      "   \"/work/u00cjz00/os/ubuntu/bin:/usr/ubuntu_bin\",\n",
      "   \"/work/u00cjz00/nvidia/pytorch_2.1.2-cuda11.8-cudnn8-runtime-nvflare.sif\",\n",
      "   \"python3\",\n",
      "   \"-m\",\n",
      "   \"ipykernel\",\n",
      "   \"-f\",\n",
      "   \"{connection_file}\"\n",
      " ],\n",
      " \"display_name\": \"Image_S-work-pytorch_pytorch_2.1.2-cuda11.8-cudnn8-runtime-nvflare\"\n",
      "}\n",
      "/work/opt/ohpc/Taiwania3/libs/singularity/3.10.2/bin/singularity exec --nv --cleanenv -B /work -B /work/u00cjz00/os/ubuntu/bin:/usr/ubuntu_bin -B /work/g00cjz00/libraryFolder/S-work-pytorch_pytorch_2.1.2-cuda11.8-cudnn8-runtime-nvflare/local/lib:/home/g00cjz00/.local/lib -B /work/g00cjz00/libraryFolder/S-work-pytorch_pytorch_2.1.2-cuda11.8-cudnn8-runtime-nvflare/local/bin:/home/g00cjz00/.local/bin /work/u00cjz00/nvidia/pytorch_2.1.2-cuda11.8-cudnn8-runtime-nvflare.sif bash -c 'export PATH=$PATH:$HOME/.local/bin; echo $PATH;'\n"
     ]
    },
    {
     "name": "stderr",
     "output_type": "stream",
     "text": [
      "\u001b[0m"
     ]
    }
   ],
   "source": [
    "%%bash\n",
    "### 0. pipi install libsray savefolder\n",
    "saveFolder=work\n",
    "label=nvflare\n",
    "\n",
    "### 1. IMAGE\n",
    "IMAGE=/work/u00cjz00/nvidia/pytorch_2.1.2-cuda11.8-cudnn8-runtime-nvflare.sif\n",
    "IMAGE_basename=S-${saveFolder}-${label}_$(basename \"$IMAGE\" .sif)\n",
    "\n",
    "### 2. VIRTUAL LIBRARY and BINARY FOLDER\n",
    "libraryFolder=/${saveFolder}/$(whoami)/libraryFolder/${IMAGE_basename}/local/lib\n",
    "libraryFolder_binding=${libraryFolder}:${HOME}/.local/lib\n",
    "binFolder=/${saveFolder}/$(whoami)/libraryFolder/${IMAGE_basename}/local/bin\n",
    "binFolder_binding=${binFolder}:${HOME}/.local/bin\n",
    "rm -rf /${saveFolder}/$(whoami)/libraryFolder/${IMAGE_basename}\n",
    "mkdir -p ${libraryFolder} ${binFolder}\n",
    "\n",
    "# 3. PIP INSTALL SLAVE IPYKERNEL\n",
    "ml libs/singularity/3.10.2\n",
    "singularity exec -B ${libraryFolder_binding} -B ${binFolder_binding} ${IMAGE} pip install -q ipykernel IProgress ipywidgets\n",
    "\n",
    "# 4. IPYKERNEL for IMAGE\n",
    "IPYKERNEL=/work/u00cjz00/slurm_jobs/ipykernel/t2/image_with_ipykernel_local\n",
    "mkdir -p ${HOME}/.local/share/jupyter/kernels/\n",
    "rm -rf ${HOME}/.local/share/jupyter/kernels/${IMAGE_basename}\n",
    "cp -rf ${IPYKERNEL} ${HOME}/.local/share/jupyter/kernels/${IMAGE_basename}\n",
    "chmod -R 755 ${HOME}/.local/share/jupyter/kernels/${IMAGE_basename}\n",
    "IMAGE_desc=$(echo $IMAGE | sed 's_/_\\\\/_g')\n",
    "sed -i \"s/templateSIF/${IMAGE_desc}/g\" ${HOME}/.local/share/jupyter/kernels/${IMAGE_basename}/kernel.json\n",
    "sed -i \"s/templateImage/Image_${IMAGE_basename}/g\" ${HOME}/.local/share/jupyter/kernels/${IMAGE_basename}/kernel.json\n",
    "sed -i \"s@templateLibrayFolder@${libraryFolder_binding}@g\" ${HOME}/.local/share/jupyter/kernels/${IMAGE_basename}/kernel.json\n",
    "sed -i \"s@templateBinFolder@${binFolder_binding}@g\" ${HOME}/.local/share/jupyter/kernels/${IMAGE_basename}/kernel.json\n",
    "\n",
    "# 5. check size\n",
    "du -sh ${libraryFolder}\n",
    "echo /home/$(whoami)/.local/share/jupyter/kernels/${IMAGE_basename}/kernel.json\n",
    "cat /home/$(whoami)/.local/share/jupyter/kernels/${IMAGE_basename}/kernel.json\n",
    "\n",
    "cmd=\"/work/opt/ohpc/Taiwania3/libs/singularity/3.10.2/bin/singularity exec --nv --cleanenv \\\n",
    "-B /work -B /work/u00cjz00/os/ubuntu/bin:/usr/ubuntu_bin \\\n",
    "-B ${libraryFolder}:/home/g00cjz00/.local/lib \\\n",
    "-B ${binFolder}:/home/g00cjz00/.local/bin \\\n",
    "${IMAGE} \\\n",
    "bash -c 'export PATH=\\$PATH:\\$HOME/.local/bin; echo \\$PATH;'\n",
    "\"\n",
    "\n",
    "echo ${cmd}\n",
    "\n"
   ]
  },
  {
   "cell_type": "code",
   "execution_count": null,
   "id": "dbecc406-1c87-45ea-884d-fc4e5dd2ed4e",
   "metadata": {},
   "outputs": [],
   "source": []
  }
 ],
 "metadata": {
  "kernelspec": {
   "display_name": "Python 3 (ipykernel)",
   "language": "python",
   "name": "python3"
  },
  "language_info": {
   "codemirror_mode": {
    "name": "ipython",
    "version": 3
   },
   "file_extension": ".py",
   "mimetype": "text/x-python",
   "name": "python",
   "nbconvert_exporter": "python",
   "pygments_lexer": "ipython3",
   "version": "3.8.16"
  }
 },
 "nbformat": 4,
 "nbformat_minor": 5
}
